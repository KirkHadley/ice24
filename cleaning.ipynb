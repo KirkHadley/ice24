{
 "cells": [
  {
   "cell_type": "code",
   "execution_count": 145,
   "metadata": {
    "collapsed": true
   },
   "outputs": [],
   "source": [
    "import pandas as pd\n",
    "import numpy as np\n",
    "import matplotlib"
   ]
  },
  {
   "cell_type": "code",
   "execution_count": 86,
   "metadata": {
    "collapsed": false
   },
   "outputs": [],
   "source": [
    "df = pd.read_excel('Aug 2015 Egypt Incident .xlsx')\n",
    "df2 = pd.read_excel('May - July 2015 Egypt .xlsx')"
   ]
  },
  {
   "cell_type": "code",
   "execution_count": 111,
   "metadata": {
    "collapsed": false
   },
   "outputs": [],
   "source": [
    "bigdf = pd.concat([df, df2], axis=0)\n",
    "bigdf = bigdf.reset_index()\n",
    "bigdf.drop('index', 1, inplace=True)\n",
    "dropcols = ['IncidentDisposition', 'crimeClass', 'IsAttempted','ReportDisposition', 'ManagerOnDuty', 'Cost']\n",
    "bigdf.drop(dropcols, 1, inplace=True)\n",
    "bigdf.to_csv('MayThruAugustEgypt.csv', encoding='utf-8', index=False)"
   ]
  },
  {
   "cell_type": "code",
   "execution_count": 139,
   "metadata": {
    "collapsed": false
   },
   "outputs": [],
   "source": [
    "def splitCol(column, numLevels, df, inplace):\n",
    "    def specificitySplit(record, numLevels=numLevels):\n",
    "        record = str(record)\n",
    "        splitList = record.split(\":\")\n",
    "        for i in range(numLevels):\n",
    "            if len(splitList) < i + 1:\n",
    "                splitList.append(\"NA\")\n",
    "        return splitList\n",
    "    if inplace == True:\n",
    "        df[column] = map(lambda x: specificitySplit(x), df[column])\n",
    "        return df\n",
    "    else:\n",
    "        return map(lambda x: specificitySplit(x), df[column])"
   ]
  },
  {
   "cell_type": "code",
   "execution_count": 140,
   "metadata": {
    "collapsed": true
   },
   "outputs": [],
   "source": [
    "def categoryCols(colChange, newCols, df):\n",
    "    df = splitCol(colChange, len(newCols), df, inplace=True)\n",
    "    for i in range(len(newCols)):\n",
    "        df[newCols[i]] = map(lambda x: x[i].strip(), df[colChange])\n",
    "    return df.drop(colChange, 1)"
   ]
  },
  {
   "cell_type": "code",
   "execution_count": 113,
   "metadata": {
    "collapsed": true
   },
   "outputs": [],
   "source": [
    "bigdf = categoryCols('Location', ['Country', 'Region/Province', 'City/Town/Municipality'], bigdf)\n",
    "bigdf = categoryCols('Incidents', ['Category', 'Type'])"
   ]
  },
  {
   "cell_type": "code",
   "execution_count": 164,
   "metadata": {
    "collapsed": false,
    "scrolled": true
   },
   "outputs": [
    {
     "data": {
      "text/plain": [
       "[['CIVIL UNREST',\n",
       "  array(['MARCH', 'PROTEST', 'ROAD BLOCK', 'SECURITY CLASHES', 'NA',\n",
       "         'DEMONSTRATION'], dtype=object)],\n",
       " ['TERRORISM',\n",
       "  array(['ARMED ATTACK', 'IED', 'BOMBING (OTHER THAN IED)', 'SHOOTING',\n",
       "         'BOMB DISCOVERY', 'THREAT', 'INFRASTRUCTURE SABOTAGE', 'NA',\n",
       "         'SVBIED (SUICIDE CAR BOMB)', 'SMALL-SCALE EXPLOSIVES', 'EXPLOSIVES'], dtype=object)],\n",
       " ['SECURITY FORCES', array(['NA', 'ARREST'], dtype=object)],\n",
       " ['nan', array(['NA'], dtype=object)],\n",
       " ['OTHER', array(['NA', 'EXECUTION'], dtype=object)],\n",
       " ['HAZARD',\n",
       "  array(['BUILDING COLLAPSE', 'NA', 'VEHICLE ACCIDENT', 'FLOODING'], dtype=object)],\n",
       " ['INFORMATIVE', array(['CLARIFICATION'], dtype=object)],\n",
       " ['ARMED CONFLICT', array(['MILITARY OFFENSIVE', 'ETHNIC CLASHES', 'MILITANCY',\n",
       "         'VIOLENT CLASHES', 'ROCKET ATTACK'], dtype=object)],\n",
       " ['CRIME',\n",
       "  array(['ARSON', 'KIDNAPPING', 'ARMED ROBBERY', 'NA', 'MURDER', 'THEFT'], dtype=object)],\n",
       " ['MAJOR POLITICAL EVENT', array(['NA'], dtype=object)]]"
      ]
     },
     "execution_count": 164,
     "metadata": {},
     "output_type": "execute_result"
    }
   ],
   "source": [
    "map(lambda x: [x, bigdf[bigdf['Category'] == x]['Type'].unique()], bigdf.Category.unique())"
   ]
  }
 ],
 "metadata": {
  "kernelspec": {
   "display_name": "Python 2",
   "language": "python",
   "name": "python2"
  },
  "language_info": {
   "codemirror_mode": {
    "name": "ipython",
    "version": 2
   },
   "file_extension": ".py",
   "mimetype": "text/x-python",
   "name": "python",
   "nbconvert_exporter": "python",
   "pygments_lexer": "ipython2",
   "version": "2.7.6"
  }
 },
 "nbformat": 4,
 "nbformat_minor": 0
}
